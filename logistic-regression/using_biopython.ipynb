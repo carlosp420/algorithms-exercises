{
 "cells": [
  {
   "cell_type": "code",
   "execution_count": 1,
   "metadata": {
    "collapsed": true
   },
   "outputs": [],
   "source": [
    "from Bio import LogisticRegression\n",
    "import numpy as np"
   ]
  },
  {
   "cell_type": "markdown",
   "metadata": {},
   "source": [
    "We will use the iris dataset to train our model but will leave out one\n",
    "record from the process so that we can used it to test our model."
   ]
  },
  {
   "cell_type": "code",
   "execution_count": 2,
   "metadata": {
    "collapsed": true
   },
   "outputs": [],
   "source": [
    "all_data = np.loadtxt(\"../datasets/iris/iris.data\", delimiter=\",\",\n",
    "                      dtype=\"float, float, float, float, S11\")"
   ]
  },
  {
   "cell_type": "markdown",
   "metadata": {},
   "source": [
    "The Logistic regression in Biopython only takes two classes. We will leave\n",
    "out one of the classes in the iris dataset."
   ]
  },
  {
   "cell_type": "code",
   "execution_count": 3,
   "metadata": {
    "collapsed": true
   },
   "outputs": [],
   "source": [
    "xs = []\n",
    "ys = []\n",
    "for i in all_data:\n",
    "    if 'virgi' not in str(i[-1]):\n",
    "        xs.append([i[0], i[1], i[2], i[3]])\n",
    "        if 'setosa' in str(i[-1]):\n",
    "            ys.append(0)\n",
    "        else:\n",
    "            ys.append(1)"
   ]
  },
  {
   "cell_type": "markdown",
   "metadata": {},
   "source": [
    "The last record will be our test data:"
   ]
  },
  {
   "cell_type": "code",
   "execution_count": 4,
   "metadata": {
    "collapsed": true
   },
   "outputs": [],
   "source": [
    "test_xs = xs.pop()\n",
    "test_ys = ys.pop()"
   ]
  },
  {
   "cell_type": "markdown",
   "metadata": {},
   "source": [
    "Train the model"
   ]
  },
  {
   "cell_type": "code",
   "execution_count": 5,
   "metadata": {
    "collapsed": false
   },
   "outputs": [
    {
     "name": "stdout",
     "output_type": "stream",
     "text": [
      "Iteration: <built-in function iter> Log-likelihood function: -68.6215708754\n",
      "Iteration: <built-in function iter> Log-likelihood function: -32.3473829722\n",
      "Iteration: <built-in function iter> Log-likelihood function: -19.2757664602\n",
      "Iteration: <built-in function iter> Log-likelihood function: -13.1916485451\n",
      "Iteration: <built-in function iter> Log-likelihood function: -10.2188444211\n",
      "Iteration: <built-in function iter> Log-likelihood function: -8.57359314063\n",
      "Iteration: <built-in function iter> Log-likelihood function: -7.49470041216\n",
      "Iteration: <built-in function iter> Log-likelihood function: -6.69356843533\n",
      "Iteration: <built-in function iter> Log-likelihood function: -6.06055470367\n",
      "Iteration: <built-in function iter> Log-likelihood function: -5.54370527526\n",
      "Iteration: <built-in function iter> Log-likelihood function: -5.1124226078\n",
      "Iteration: <built-in function iter> Log-likelihood function: -4.74650512955\n",
      "Iteration: <built-in function iter> Log-likelihood function: -4.43181414388\n",
      "Iteration: <built-in function iter> Log-likelihood function: -4.15808609171\n",
      "Iteration: <built-in function iter> Log-likelihood function: -3.91766583656\n",
      "Iteration: <built-in function iter> Log-likelihood function: -3.70471713654\n",
      "Iteration: <built-in function iter> Log-likelihood function: -3.51470731833\n",
      "Iteration: <built-in function iter> Log-likelihood function: -3.34405940596\n",
      "Iteration: <built-in function iter> Log-likelihood function: -3.18991084978\n",
      "Iteration: <built-in function iter> Log-likelihood function: -3.04994231805\n",
      "Iteration: <built-in function iter> Log-likelihood function: -2.92225376876\n",
      "Iteration: <built-in function iter> Log-likelihood function: -2.80527315932\n",
      "Iteration: <built-in function iter> Log-likelihood function: -2.69768813963\n",
      "Iteration: <built-in function iter> Log-likelihood function: -2.59839421971\n",
      "Iteration: <built-in function iter> Log-likelihood function: -2.50645493565\n",
      "Iteration: <built-in function iter> Log-likelihood function: -2.42107088104\n",
      "Iteration: <built-in function iter> Log-likelihood function: -2.34155537526\n",
      "Iteration: <built-in function iter> Log-likelihood function: -2.26731516036\n",
      "Iteration: <built-in function iter> Log-likelihood function: -2.19783495005\n",
      "Iteration: <built-in function iter> Log-likelihood function: -2.13266495973\n",
      "Iteration: <built-in function iter> Log-likelihood function: -2.07141076519\n",
      "Iteration: <built-in function iter> Log-likelihood function: -2.01372499628\n",
      "Iteration: <built-in function iter> Log-likelihood function: -1.95930048837\n",
      "Iteration: <built-in function iter> Log-likelihood function: -1.90786460056\n",
      "Iteration: <built-in function iter> Log-likelihood function: -1.85917447449\n",
      "Iteration: <built-in function iter> Log-likelihood function: -1.81301305648\n",
      "Iteration: <built-in function iter> Log-likelihood function: -1.76918574284\n",
      "Iteration: <built-in function iter> Log-likelihood function: -1.72751753714\n",
      "Iteration: <built-in function iter> Log-likelihood function: -1.68785063018\n",
      "Iteration: <built-in function iter> Log-likelihood function: -1.65004233105\n",
      "Iteration: <built-in function iter> Log-likelihood function: -1.61396329093\n",
      "Iteration: <built-in function iter> Log-likelihood function: -1.57949597247\n",
      "Iteration: <built-in function iter> Log-likelihood function: -1.54653332575\n",
      "Iteration: <built-in function iter> Log-likelihood function: -1.51497763907\n",
      "Iteration: <built-in function iter> Log-likelihood function: -1.48473953807\n",
      "Iteration: <built-in function iter> Log-likelihood function: -1.45573711128\n",
      "Iteration: <built-in function iter> Log-likelihood function: -1.42789514382\n",
      "Iteration: <built-in function iter> Log-likelihood function: -1.40114444387\n",
      "Iteration: <built-in function iter> Log-likelihood function: -1.37542124915\n",
      "Iteration: <built-in function iter> Log-likelihood function: -1.35066670232\n",
      "Iteration: <built-in function iter> Log-likelihood function: -1.32682638638\n",
      "Iteration: <built-in function iter> Log-likelihood function: -1.30384991191\n",
      "Iteration: <built-in function iter> Log-likelihood function: -1.28169054973\n",
      "Iteration: <built-in function iter> Log-likelihood function: -1.26030490314\n",
      "Iteration: <built-in function iter> Log-likelihood function: -1.23965261486\n",
      "Iteration: <built-in function iter> Log-likelihood function: -1.21969610445\n",
      "Iteration: <built-in function iter> Log-likelihood function: -1.20040033255\n",
      "Iteration: <built-in function iter> Log-likelihood function: -1.18173258885\n",
      "Iteration: <built-in function iter> Log-likelihood function: -1.16366230096\n",
      "Iteration: <built-in function iter> Log-likelihood function: -1.14616086184\n",
      "Iteration: <built-in function iter> Log-likelihood function: -1.12920147379\n",
      "Iteration: <built-in function iter> Log-likelihood function: -1.11275900705\n",
      "Iteration: <built-in function iter> Log-likelihood function: -1.0968098715\n",
      "Iteration: <built-in function iter> Log-likelihood function: -1.08133190009\n",
      "Iteration: <built-in function iter> Log-likelihood function: -1.0663042427\n",
      "Iteration: <built-in function iter> Log-likelihood function: -1.05170726938\n",
      "Iteration: <built-in function iter> Log-likelihood function: -1.03752248205\n",
      "Iteration: <built-in function iter> Log-likelihood function: -1.02373243377\n",
      "Iteration: <built-in function iter> Log-likelihood function: -1.01032065483\n",
      "Iteration: <built-in function iter> Log-likelihood function: -0.997271584998\n",
      "Iteration: <built-in function iter> Log-likelihood function: -0.984570511372\n",
      "Iteration: <built-in function iter> Log-likelihood function: -0.972203511252\n",
      "Iteration: <built-in function iter> Log-likelihood function: -0.960157399588\n",
      "Iteration: <built-in function iter> Log-likelihood function: -0.948419680584\n",
      "Iteration: <built-in function iter> Log-likelihood function: -0.936978503063\n",
      "Iteration: <built-in function iter> Log-likelihood function: -0.925822619273\n",
      "Iteration: <built-in function iter> Log-likelihood function: -0.914941346818\n",
      "Iteration: <built-in function iter> Log-likelihood function: -0.904324533443\n",
      "Iteration: <built-in function iter> Log-likelihood function: -0.893962524423\n",
      "Iteration: <built-in function iter> Log-likelihood function: -0.883846132341\n",
      "Iteration: <built-in function iter> Log-likelihood function: -0.873966609042\n"
     ]
    }
   ],
   "source": [
    "def show_progress(iteration, loglikelihood):\n",
    "    print(\"Iteration:\", iteration, \"Log-likelihood function:\", loglikelihood)\n",
    "\n",
    "model = LogisticRegression.train(xs, ys, update_fn=show_progress)"
   ]
  },
  {
   "cell_type": "markdown",
   "metadata": {},
   "source": [
    "See if our prediction is accurate:"
   ]
  },
  {
   "cell_type": "code",
   "execution_count": 6,
   "metadata": {
    "collapsed": false
   },
   "outputs": [
    {
     "name": "stdout",
     "output_type": "stream",
     "text": [
      "This should be Iris-versic (1): 1\n"
     ]
    }
   ],
   "source": [
    "print(\"This should be Iris-versic (1): {}\".format(LogisticRegression.classify(model, test_xs)))"
   ]
  }
 ],
 "metadata": {
  "kernelspec": {
   "display_name": "Python 3",
   "language": "python",
   "name": "python3"
  },
  "language_info": {
   "codemirror_mode": {
    "name": "ipython",
    "version": 3
   },
   "file_extension": ".py",
   "mimetype": "text/x-python",
   "name": "python",
   "nbconvert_exporter": "python",
   "pygments_lexer": "ipython3",
   "version": "3.4.2"
  }
 },
 "nbformat": 4,
 "nbformat_minor": 0
}
